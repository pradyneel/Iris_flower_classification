{
  "nbformat": 4,
  "nbformat_minor": 0,
  "metadata": {
    "colab": {
      "name": "Flower Dataset.ipynb",
      "provenance": [],
      "authorship_tag": "ABX9TyM54/rdbWPOA2zFN0IjtBGI",
      "include_colab_link": true
    },
    "kernelspec": {
      "name": "python3",
      "display_name": "Python 3"
    }
  },
  "cells": [
    {
      "cell_type": "markdown",
      "metadata": {
        "id": "view-in-github",
        "colab_type": "text"
      },
      "source": [
        "<a href=\"https://colab.research.google.com/github/pradyneel/Iris_flower_classification/blob/main/Flower_Dataset.ipynb\" target=\"_parent\"><img src=\"https://colab.research.google.com/assets/colab-badge.svg\" alt=\"Open In Colab\"/></a>"
      ]
    },
    {
      "cell_type": "code",
      "metadata": {
        "id": "8ZHmFp17TbG_"
      },
      "source": [
        "from __future__ import absolute_import, division, print_function, unicode_literals\n",
        "\n",
        "import tensorflow as tf\n",
        "import pandas as pd"
      ],
      "execution_count": null,
      "outputs": []
    },
    {
      "cell_type": "code",
      "metadata": {
        "id": "jfAPsx7lT0v3"
      },
      "source": [
        "CSV_COLUMN_NAMES = ['SepalLength', 'SepalWidth', 'PetalLength', 'PetalWidth', 'Species']\n",
        "SPECIES = ['Setosa', 'Versicolor', 'Virginica']"
      ],
      "execution_count": null,
      "outputs": []
    },
    {
      "cell_type": "code",
      "metadata": {
        "id": "XUgiZCjzUOqA",
        "colab": {
          "base_uri": "https://localhost:8080/"
        },
        "outputId": "45e2f9dc-22ac-4baf-9db6-38492c0d16f6"
      },
      "source": [
        "train_path = tf.keras.utils.get_file(\n",
        "    \"iris_training.csv\", \"https://storage.googleapis.com/download.tensorflow.org/data/iris_training.csv\")\n",
        "test_path = tf.keras.utils.get_file(\n",
        "    \"iris_test.csv\", \"https://storage.googleapis.com/download.tensorflow.org/data/iris_test.csv\")\n",
        "\n",
        "train = pd.read_csv(train_path, names = CSV_COLUMN_NAMES, header = 0)\n",
        "test = pd.read_csv(test_path, names = CSV_COLUMN_NAMES, header = 0)\n"
      ],
      "execution_count": null,
      "outputs": [
        {
          "output_type": "stream",
          "text": [
            "Downloading data from https://storage.googleapis.com/download.tensorflow.org/data/iris_training.csv\n",
            "8192/2194 [================================================================================================================] - 0s 0us/step\n",
            "Downloading data from https://storage.googleapis.com/download.tensorflow.org/data/iris_test.csv\n",
            "8192/573 [============================================================================================================================================================================================================================================================================================================================================================================================================================================] - 0s 0us/step\n"
          ],
          "name": "stdout"
        }
      ]
    },
    {
      "cell_type": "code",
      "metadata": {
        "colab": {
          "base_uri": "https://localhost:8080/",
          "height": 195
        },
        "id": "kBpd8CmCVUg7",
        "outputId": "6bd7dd33-c740-4dec-91ab-326d7f053d91"
      },
      "source": [
        "train.head()"
      ],
      "execution_count": null,
      "outputs": [
        {
          "output_type": "execute_result",
          "data": {
            "text/html": [
              "<div>\n",
              "<style scoped>\n",
              "    .dataframe tbody tr th:only-of-type {\n",
              "        vertical-align: middle;\n",
              "    }\n",
              "\n",
              "    .dataframe tbody tr th {\n",
              "        vertical-align: top;\n",
              "    }\n",
              "\n",
              "    .dataframe thead th {\n",
              "        text-align: right;\n",
              "    }\n",
              "</style>\n",
              "<table border=\"1\" class=\"dataframe\">\n",
              "  <thead>\n",
              "    <tr style=\"text-align: right;\">\n",
              "      <th></th>\n",
              "      <th>SepalLength</th>\n",
              "      <th>SepalWidth</th>\n",
              "      <th>PetalLength</th>\n",
              "      <th>PetalWidth</th>\n",
              "      <th>Species</th>\n",
              "    </tr>\n",
              "  </thead>\n",
              "  <tbody>\n",
              "    <tr>\n",
              "      <th>0</th>\n",
              "      <td>6.4</td>\n",
              "      <td>2.8</td>\n",
              "      <td>5.6</td>\n",
              "      <td>2.2</td>\n",
              "      <td>2</td>\n",
              "    </tr>\n",
              "    <tr>\n",
              "      <th>1</th>\n",
              "      <td>5.0</td>\n",
              "      <td>2.3</td>\n",
              "      <td>3.3</td>\n",
              "      <td>1.0</td>\n",
              "      <td>1</td>\n",
              "    </tr>\n",
              "    <tr>\n",
              "      <th>2</th>\n",
              "      <td>4.9</td>\n",
              "      <td>2.5</td>\n",
              "      <td>4.5</td>\n",
              "      <td>1.7</td>\n",
              "      <td>2</td>\n",
              "    </tr>\n",
              "    <tr>\n",
              "      <th>3</th>\n",
              "      <td>4.9</td>\n",
              "      <td>3.1</td>\n",
              "      <td>1.5</td>\n",
              "      <td>0.1</td>\n",
              "      <td>0</td>\n",
              "    </tr>\n",
              "    <tr>\n",
              "      <th>4</th>\n",
              "      <td>5.7</td>\n",
              "      <td>3.8</td>\n",
              "      <td>1.7</td>\n",
              "      <td>0.3</td>\n",
              "      <td>0</td>\n",
              "    </tr>\n",
              "  </tbody>\n",
              "</table>\n",
              "</div>"
            ],
            "text/plain": [
              "   SepalLength  SepalWidth  PetalLength  PetalWidth  Species\n",
              "0          6.4         2.8          5.6         2.2        2\n",
              "1          5.0         2.3          3.3         1.0        1\n",
              "2          4.9         2.5          4.5         1.7        2\n",
              "3          4.9         3.1          1.5         0.1        0\n",
              "4          5.7         3.8          1.7         0.3        0"
            ]
          },
          "metadata": {
            "tags": []
          },
          "execution_count": 5
        }
      ]
    },
    {
      "cell_type": "code",
      "metadata": {
        "colab": {
          "base_uri": "https://localhost:8080/",
          "height": 195
        },
        "id": "R91Ffy7-Vabi",
        "outputId": "f5ff6f18-a7eb-4421-f575-7894d03dbde4"
      },
      "source": [
        "train_y = train.pop('Species')\n",
        "test_y = test.pop('Species')\n",
        "train.head()"
      ],
      "execution_count": null,
      "outputs": [
        {
          "output_type": "execute_result",
          "data": {
            "text/html": [
              "<div>\n",
              "<style scoped>\n",
              "    .dataframe tbody tr th:only-of-type {\n",
              "        vertical-align: middle;\n",
              "    }\n",
              "\n",
              "    .dataframe tbody tr th {\n",
              "        vertical-align: top;\n",
              "    }\n",
              "\n",
              "    .dataframe thead th {\n",
              "        text-align: right;\n",
              "    }\n",
              "</style>\n",
              "<table border=\"1\" class=\"dataframe\">\n",
              "  <thead>\n",
              "    <tr style=\"text-align: right;\">\n",
              "      <th></th>\n",
              "      <th>SepalLength</th>\n",
              "      <th>SepalWidth</th>\n",
              "      <th>PetalLength</th>\n",
              "      <th>PetalWidth</th>\n",
              "    </tr>\n",
              "  </thead>\n",
              "  <tbody>\n",
              "    <tr>\n",
              "      <th>0</th>\n",
              "      <td>6.4</td>\n",
              "      <td>2.8</td>\n",
              "      <td>5.6</td>\n",
              "      <td>2.2</td>\n",
              "    </tr>\n",
              "    <tr>\n",
              "      <th>1</th>\n",
              "      <td>5.0</td>\n",
              "      <td>2.3</td>\n",
              "      <td>3.3</td>\n",
              "      <td>1.0</td>\n",
              "    </tr>\n",
              "    <tr>\n",
              "      <th>2</th>\n",
              "      <td>4.9</td>\n",
              "      <td>2.5</td>\n",
              "      <td>4.5</td>\n",
              "      <td>1.7</td>\n",
              "    </tr>\n",
              "    <tr>\n",
              "      <th>3</th>\n",
              "      <td>4.9</td>\n",
              "      <td>3.1</td>\n",
              "      <td>1.5</td>\n",
              "      <td>0.1</td>\n",
              "    </tr>\n",
              "    <tr>\n",
              "      <th>4</th>\n",
              "      <td>5.7</td>\n",
              "      <td>3.8</td>\n",
              "      <td>1.7</td>\n",
              "      <td>0.3</td>\n",
              "    </tr>\n",
              "  </tbody>\n",
              "</table>\n",
              "</div>"
            ],
            "text/plain": [
              "   SepalLength  SepalWidth  PetalLength  PetalWidth\n",
              "0          6.4         2.8          5.6         2.2\n",
              "1          5.0         2.3          3.3         1.0\n",
              "2          4.9         2.5          4.5         1.7\n",
              "3          4.9         3.1          1.5         0.1\n",
              "4          5.7         3.8          1.7         0.3"
            ]
          },
          "metadata": {
            "tags": []
          },
          "execution_count": 6
        }
      ]
    },
    {
      "cell_type": "code",
      "metadata": {
        "colab": {
          "base_uri": "https://localhost:8080/"
        },
        "id": "WWacJRIxV9I2",
        "outputId": "bf655731-c75e-4e3a-9b6f-bae253311367"
      },
      "source": [
        "train.shape"
      ],
      "execution_count": null,
      "outputs": [
        {
          "output_type": "execute_result",
          "data": {
            "text/plain": [
              "(120, 4)"
            ]
          },
          "metadata": {
            "tags": []
          },
          "execution_count": 7
        }
      ]
    },
    {
      "cell_type": "code",
      "metadata": {
        "colab": {
          "base_uri": "https://localhost:8080/"
        },
        "id": "wWgSxuc6WAR3",
        "outputId": "eec5beda-f25d-4434-cd7a-1c987d0f7a1e"
      },
      "source": [
        "train_y.head()"
      ],
      "execution_count": null,
      "outputs": [
        {
          "output_type": "execute_result",
          "data": {
            "text/plain": [
              "0    2\n",
              "1    1\n",
              "2    2\n",
              "3    0\n",
              "4    0\n",
              "Name: Species, dtype: int64"
            ]
          },
          "metadata": {
            "tags": []
          },
          "execution_count": 8
        }
      ]
    },
    {
      "cell_type": "code",
      "metadata": {
        "id": "9H8bmq4JWD9Y"
      },
      "source": [
        "def input_fn(features, labels, training = True, batch_size = 256):\n",
        "  dataset = tf.data.Dataset.from_tensor_slices((dict(features), labels))\n",
        "\n",
        "  if training:\n",
        "    dataset = dataset.shuffle(1000).repeat()\n",
        "\n",
        "  return dataset.batch(batch_size)\n",
        "\n",
        "my_feature_columns = []\n",
        "for key in train.keys():\n",
        "  my_feature_columns.append(tf.feature_column.numeric_column(key=key))"
      ],
      "execution_count": null,
      "outputs": []
    },
    {
      "cell_type": "code",
      "metadata": {
        "colab": {
          "base_uri": "https://localhost:8080/"
        },
        "id": "Xhrpl2O6WspN",
        "outputId": "6646e050-3a4c-4a8e-a32c-7f81cd525fa1"
      },
      "source": [
        "classifier = tf.estimator.DNNClassifier(\n",
        "    feature_columns = my_feature_columns,\n",
        "    hidden_units = [30, 10],\n",
        "    n_classes = 3)\n",
        "\n",
        "classifier.train(\n",
        "    input_fn = lambda: input_fn(train, train_y, training = True),\n",
        "    steps = 5000)"
      ],
      "execution_count": null,
      "outputs": [
        {
          "output_type": "stream",
          "text": [
            "INFO:tensorflow:Using default config.\n",
            "WARNING:tensorflow:Using temporary folder as model directory: /tmp/tmpasdzkuzr\n",
            "INFO:tensorflow:Using config: {'_model_dir': '/tmp/tmpasdzkuzr', '_tf_random_seed': None, '_save_summary_steps': 100, '_save_checkpoints_steps': None, '_save_checkpoints_secs': 600, '_session_config': allow_soft_placement: true\n",
            "graph_options {\n",
            "  rewrite_options {\n",
            "    meta_optimizer_iterations: ONE\n",
            "  }\n",
            "}\n",
            ", '_keep_checkpoint_max': 5, '_keep_checkpoint_every_n_hours': 10000, '_log_step_count_steps': 100, '_train_distribute': None, '_device_fn': None, '_protocol': None, '_eval_distribute': None, '_experimental_distribute': None, '_experimental_max_worker_delay_secs': None, '_session_creation_timeout_secs': 7200, '_service': None, '_cluster_spec': ClusterSpec({}), '_task_type': 'worker', '_task_id': 0, '_global_id_in_cluster': 0, '_master': '', '_evaluation_master': '', '_is_chief': True, '_num_ps_replicas': 0, '_num_worker_replicas': 1}\n",
            "INFO:tensorflow:Calling model_fn.\n",
            "WARNING:tensorflow:Layer dnn is casting an input tensor from dtype float64 to the layer's dtype of float32, which is new behavior in TensorFlow 2.  The layer has dtype float32 because its dtype defaults to floatx.\n",
            "\n",
            "If you intended to run this layer in float32, you can safely ignore this warning. If in doubt, this warning is likely only an issue if you are porting a TensorFlow 1.X model to TensorFlow 2.\n",
            "\n",
            "To change all layers to have dtype float64 by default, call `tf.keras.backend.set_floatx('float64')`. To change just this layer, pass dtype='float64' to the layer constructor. If you are the author of this layer, you can disable autocasting by passing autocast=False to the base Layer constructor.\n",
            "\n",
            "INFO:tensorflow:Done calling model_fn.\n",
            "INFO:tensorflow:Create CheckpointSaverHook.\n",
            "INFO:tensorflow:Graph was finalized.\n",
            "INFO:tensorflow:Running local_init_op.\n",
            "INFO:tensorflow:Done running local_init_op.\n",
            "INFO:tensorflow:Calling checkpoint listeners before saving checkpoint 0...\n",
            "INFO:tensorflow:Saving checkpoints for 0 into /tmp/tmpasdzkuzr/model.ckpt.\n",
            "INFO:tensorflow:Calling checkpoint listeners after saving checkpoint 0...\n",
            "INFO:tensorflow:loss = 1.5030348, step = 0\n",
            "INFO:tensorflow:global_step/sec: 507.262\n",
            "INFO:tensorflow:loss = 1.1896966, step = 100 (0.201 sec)\n",
            "INFO:tensorflow:global_step/sec: 660.487\n",
            "INFO:tensorflow:loss = 1.068553, step = 200 (0.153 sec)\n",
            "INFO:tensorflow:global_step/sec: 609.975\n",
            "INFO:tensorflow:loss = 0.99873596, step = 300 (0.161 sec)\n",
            "INFO:tensorflow:global_step/sec: 632.131\n",
            "INFO:tensorflow:loss = 0.93821687, step = 400 (0.156 sec)\n",
            "INFO:tensorflow:global_step/sec: 672.47\n",
            "INFO:tensorflow:loss = 0.90049565, step = 500 (0.151 sec)\n",
            "INFO:tensorflow:global_step/sec: 663.699\n",
            "INFO:tensorflow:loss = 0.87027335, step = 600 (0.151 sec)\n",
            "INFO:tensorflow:global_step/sec: 622.164\n",
            "INFO:tensorflow:loss = 0.8342581, step = 700 (0.161 sec)\n",
            "INFO:tensorflow:global_step/sec: 646.909\n",
            "INFO:tensorflow:loss = 0.8055321, step = 800 (0.152 sec)\n",
            "INFO:tensorflow:global_step/sec: 587.852\n",
            "INFO:tensorflow:loss = 0.7772689, step = 900 (0.170 sec)\n",
            "INFO:tensorflow:global_step/sec: 647.661\n",
            "INFO:tensorflow:loss = 0.7510544, step = 1000 (0.155 sec)\n",
            "INFO:tensorflow:global_step/sec: 623.68\n",
            "INFO:tensorflow:loss = 0.7311681, step = 1100 (0.162 sec)\n",
            "INFO:tensorflow:global_step/sec: 663.524\n",
            "INFO:tensorflow:loss = 0.71455616, step = 1200 (0.150 sec)\n",
            "INFO:tensorflow:global_step/sec: 649.796\n",
            "INFO:tensorflow:loss = 0.6890573, step = 1300 (0.155 sec)\n",
            "INFO:tensorflow:global_step/sec: 646.259\n",
            "INFO:tensorflow:loss = 0.6901685, step = 1400 (0.153 sec)\n",
            "INFO:tensorflow:global_step/sec: 665.17\n",
            "INFO:tensorflow:loss = 0.6588634, step = 1500 (0.150 sec)\n",
            "INFO:tensorflow:global_step/sec: 663.996\n",
            "INFO:tensorflow:loss = 0.64043725, step = 1600 (0.150 sec)\n",
            "INFO:tensorflow:global_step/sec: 625.711\n",
            "INFO:tensorflow:loss = 0.62475574, step = 1700 (0.160 sec)\n",
            "INFO:tensorflow:global_step/sec: 650.849\n",
            "INFO:tensorflow:loss = 0.61271536, step = 1800 (0.154 sec)\n",
            "INFO:tensorflow:global_step/sec: 635.258\n",
            "INFO:tensorflow:loss = 0.589844, step = 1900 (0.158 sec)\n",
            "INFO:tensorflow:global_step/sec: 653.602\n",
            "INFO:tensorflow:loss = 0.5944802, step = 2000 (0.152 sec)\n",
            "INFO:tensorflow:global_step/sec: 656.754\n",
            "INFO:tensorflow:loss = 0.57595515, step = 2100 (0.153 sec)\n",
            "INFO:tensorflow:global_step/sec: 663.808\n",
            "INFO:tensorflow:loss = 0.5574535, step = 2200 (0.150 sec)\n",
            "INFO:tensorflow:global_step/sec: 650.418\n",
            "INFO:tensorflow:loss = 0.54588735, step = 2300 (0.156 sec)\n",
            "INFO:tensorflow:global_step/sec: 572.411\n",
            "INFO:tensorflow:loss = 0.5512284, step = 2400 (0.175 sec)\n",
            "INFO:tensorflow:global_step/sec: 588.368\n",
            "INFO:tensorflow:loss = 0.5364831, step = 2500 (0.168 sec)\n",
            "INFO:tensorflow:global_step/sec: 608.39\n",
            "INFO:tensorflow:loss = 0.5381095, step = 2600 (0.166 sec)\n",
            "INFO:tensorflow:global_step/sec: 627.559\n",
            "INFO:tensorflow:loss = 0.51427823, step = 2700 (0.161 sec)\n",
            "INFO:tensorflow:global_step/sec: 650.931\n",
            "INFO:tensorflow:loss = 0.51128423, step = 2800 (0.151 sec)\n",
            "INFO:tensorflow:global_step/sec: 659.221\n",
            "INFO:tensorflow:loss = 0.49954957, step = 2900 (0.152 sec)\n",
            "INFO:tensorflow:global_step/sec: 640.44\n",
            "INFO:tensorflow:loss = 0.4904596, step = 3000 (0.157 sec)\n",
            "INFO:tensorflow:global_step/sec: 600.472\n",
            "INFO:tensorflow:loss = 0.48215204, step = 3100 (0.168 sec)\n",
            "INFO:tensorflow:global_step/sec: 635.624\n",
            "INFO:tensorflow:loss = 0.4783048, step = 3200 (0.156 sec)\n",
            "INFO:tensorflow:global_step/sec: 640.7\n",
            "INFO:tensorflow:loss = 0.47388303, step = 3300 (0.156 sec)\n",
            "INFO:tensorflow:global_step/sec: 656.275\n",
            "INFO:tensorflow:loss = 0.45755607, step = 3400 (0.154 sec)\n",
            "INFO:tensorflow:global_step/sec: 620.702\n",
            "INFO:tensorflow:loss = 0.4529525, step = 3500 (0.159 sec)\n",
            "INFO:tensorflow:global_step/sec: 634.817\n",
            "INFO:tensorflow:loss = 0.45078123, step = 3600 (0.161 sec)\n",
            "INFO:tensorflow:global_step/sec: 616.732\n",
            "INFO:tensorflow:loss = 0.44625908, step = 3700 (0.159 sec)\n",
            "INFO:tensorflow:global_step/sec: 655.658\n",
            "INFO:tensorflow:loss = 0.43495017, step = 3800 (0.153 sec)\n",
            "INFO:tensorflow:global_step/sec: 643.072\n",
            "INFO:tensorflow:loss = 0.43685177, step = 3900 (0.155 sec)\n",
            "INFO:tensorflow:global_step/sec: 654.541\n",
            "INFO:tensorflow:loss = 0.4276839, step = 4000 (0.155 sec)\n",
            "INFO:tensorflow:global_step/sec: 655.458\n",
            "INFO:tensorflow:loss = 0.42042562, step = 4100 (0.150 sec)\n",
            "INFO:tensorflow:global_step/sec: 661.015\n",
            "INFO:tensorflow:loss = 0.41825575, step = 4200 (0.151 sec)\n",
            "INFO:tensorflow:global_step/sec: 648.511\n",
            "INFO:tensorflow:loss = 0.41999733, step = 4300 (0.154 sec)\n",
            "INFO:tensorflow:global_step/sec: 661.117\n",
            "INFO:tensorflow:loss = 0.40504354, step = 4400 (0.151 sec)\n",
            "INFO:tensorflow:global_step/sec: 617.491\n",
            "INFO:tensorflow:loss = 0.39521816, step = 4500 (0.165 sec)\n",
            "INFO:tensorflow:global_step/sec: 620.547\n",
            "INFO:tensorflow:loss = 0.40541068, step = 4600 (0.158 sec)\n",
            "INFO:tensorflow:global_step/sec: 671.848\n",
            "INFO:tensorflow:loss = 0.38588703, step = 4700 (0.149 sec)\n",
            "INFO:tensorflow:global_step/sec: 656.516\n",
            "INFO:tensorflow:loss = 0.38820335, step = 4800 (0.153 sec)\n",
            "INFO:tensorflow:global_step/sec: 623.605\n",
            "INFO:tensorflow:loss = 0.38786975, step = 4900 (0.160 sec)\n",
            "INFO:tensorflow:Calling checkpoint listeners before saving checkpoint 5000...\n",
            "INFO:tensorflow:Saving checkpoints for 5000 into /tmp/tmpasdzkuzr/model.ckpt.\n",
            "INFO:tensorflow:Calling checkpoint listeners after saving checkpoint 5000...\n",
            "INFO:tensorflow:Loss for final step: 0.3759242.\n"
          ],
          "name": "stdout"
        },
        {
          "output_type": "execute_result",
          "data": {
            "text/plain": [
              "<tensorflow_estimator.python.estimator.canned.dnn.DNNClassifierV2 at 0x7f5aba9eddd8>"
            ]
          },
          "metadata": {
            "tags": []
          },
          "execution_count": 13
        }
      ]
    },
    {
      "cell_type": "code",
      "metadata": {
        "id": "YHWLeUI2Y7lc",
        "colab": {
          "base_uri": "https://localhost:8080/"
        },
        "outputId": "5a6130d5-84e1-4032-a0b7-58e5af174329"
      },
      "source": [
        "\n",
        "eval_result = classifier.evaluate(\n",
        "    input_fn = lambda: input_fn(test, test_y, training = False))\n",
        "\n",
        "print('\\nTest set accuracy: {accuracy:0.3f}\\n'.format(**eval_result))"
      ],
      "execution_count": null,
      "outputs": [
        {
          "output_type": "stream",
          "text": [
            "INFO:tensorflow:Calling model_fn.\n",
            "WARNING:tensorflow:Layer dnn is casting an input tensor from dtype float64 to the layer's dtype of float32, which is new behavior in TensorFlow 2.  The layer has dtype float32 because its dtype defaults to floatx.\n",
            "\n",
            "If you intended to run this layer in float32, you can safely ignore this warning. If in doubt, this warning is likely only an issue if you are porting a TensorFlow 1.X model to TensorFlow 2.\n",
            "\n",
            "To change all layers to have dtype float64 by default, call `tf.keras.backend.set_floatx('float64')`. To change just this layer, pass dtype='float64' to the layer constructor. If you are the author of this layer, you can disable autocasting by passing autocast=False to the base Layer constructor.\n",
            "\n",
            "INFO:tensorflow:Done calling model_fn.\n",
            "INFO:tensorflow:Starting evaluation at 2020-12-08T10:32:29Z\n",
            "INFO:tensorflow:Graph was finalized.\n",
            "INFO:tensorflow:Restoring parameters from /tmp/tmpasdzkuzr/model.ckpt-5000\n",
            "INFO:tensorflow:Running local_init_op.\n",
            "INFO:tensorflow:Done running local_init_op.\n",
            "INFO:tensorflow:Inference Time : 0.19303s\n",
            "INFO:tensorflow:Finished evaluation at 2020-12-08-10:32:29\n",
            "INFO:tensorflow:Saving dict for global step 5000: accuracy = 0.9, average_loss = 0.44798163, global_step = 5000, loss = 0.44798163\n",
            "INFO:tensorflow:Saving 'checkpoint_path' summary for global step 5000: /tmp/tmpasdzkuzr/model.ckpt-5000\n",
            "\n",
            "Test set accuracy: 0.900\n",
            "\n"
          ],
          "name": "stdout"
        }
      ]
    }
  ]
}